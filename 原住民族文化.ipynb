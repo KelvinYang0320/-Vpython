{
 "cells": [
  {
   "cell_type": "code",
   "execution_count": 1,
   "metadata": {},
   "outputs": [
    {
     "data": {
      "text/html": [
       "<div id=\"glowscript\" class=\"glowscript\"></div>"
      ],
      "text/plain": [
       "<IPython.core.display.HTML object>"
      ]
     },
     "metadata": {},
     "output_type": "display_data"
    },
    {
     "data": {
      "application/javascript": [
       "if (typeof Jupyter !== \"undefined\") { window.__context = { glowscript_container: $(\"#glowscript\").removeAttr(\"id\")};}else{ element.textContent = ' ';}"
      ],
      "text/plain": [
       "<IPython.core.display.Javascript object>"
      ]
     },
     "metadata": {},
     "output_type": "display_data"
    }
   ],
   "source": [
    "from vpython import *\n",
    "m_bride = 60  #新娘體重        \n",
    "r = 0.2 #代表新娘的小球半徑\n",
    "L = 5 #擺長=5 m\n",
    "theta0 = radians(30) #初始擺角\n",
    "theta = theta0  #擺角\n",
    "g = 9.8 #重力加速度=9.8 m/s   \n",
    "T = 2*pi*sqrt(L/g)  #單擺週期理論值\n",
    "alpha = 0   #角加速度 \n",
    "omega = 0   #角速度\n",
    "i = 0   #週期紀錄    \n",
    "t = 0   #初始時間\n",
    "dt = 0.001 #極小時間差\n",
    "b = 0.1"
   ]
  },
  {
   "cell_type": "code",
   "execution_count": 2,
   "metadata": {
    "scrolled": false
   },
   "outputs": [
    {
     "data": {
      "text/html": [
       "<div id=\"glowscript\" class=\"glowscript\"></div>"
      ],
      "text/plain": [
       "<IPython.core.display.HTML object>"
      ]
     },
     "metadata": {},
     "output_type": "display_data"
    },
    {
     "data": {
      "application/javascript": [
       "if (typeof Jupyter !== \"undefined\") { window.__context = { glowscript_container: $(\"#glowscript\").removeAttr(\"id\")};}else{ element.textContent = ' ';}"
      ],
      "text/plain": [
       "<IPython.core.display.Javascript object>"
      ]
     },
     "metadata": {},
     "output_type": "display_data"
    },
    {
     "data": {
      "application/javascript": [
       "if (typeof Jupyter !== \"undefined\") {require.undef(\"nbextensions/vpython_libraries/glow.min\");}else{element.textContent = ' ';}"
      ],
      "text/plain": [
       "<IPython.core.display.Javascript object>"
      ]
     },
     "metadata": {},
     "output_type": "display_data"
    },
    {
     "data": {
      "application/javascript": [
       "if (typeof Jupyter !== \"undefined\") {require.undef(\"nbextensions/vpython_libraries/glowcomm\");}else{element.textContent = ' ';}"
      ],
      "text/plain": [
       "<IPython.core.display.Javascript object>"
      ]
     },
     "metadata": {},
     "output_type": "display_data"
    },
    {
     "data": {
      "application/javascript": [
       "if (typeof Jupyter !== \"undefined\") {require.undef(\"nbextensions/vpython_libraries/jquery-ui.custom.min\");}else{element.textContent = ' ';}"
      ],
      "text/plain": [
       "<IPython.core.display.Javascript object>"
      ]
     },
     "metadata": {},
     "output_type": "display_data"
    },
    {
     "data": {
      "application/javascript": [
       "if (typeof Jupyter !== \"undefined\") {require([\"nbextensions/vpython_libraries/glow.min\"], function(){console.log(\"GLOW LOADED\");});}else{element.textContent = ' ';}"
      ],
      "text/plain": [
       "<IPython.core.display.Javascript object>"
      ]
     },
     "metadata": {},
     "output_type": "display_data"
    },
    {
     "data": {
      "application/javascript": [
       "if (typeof Jupyter !== \"undefined\") {require([\"nbextensions/vpython_libraries/glowcomm\"], function(){console.log(\"GLOWCOMM LOADED\");});}else{element.textContent = ' ';}"
      ],
      "text/plain": [
       "<IPython.core.display.Javascript object>"
      ]
     },
     "metadata": {},
     "output_type": "display_data"
    },
    {
     "data": {
      "application/javascript": [
       "if (typeof Jupyter !== \"undefined\") {require([\"nbextensions/vpython_libraries/jquery-ui.custom.min\"], function(){console.log(\"JQUERY LOADED\");});}else{element.textContent = ' ';}"
      ],
      "text/plain": [
       "<IPython.core.display.Javascript object>"
      ]
     },
     "metadata": {},
     "output_type": "display_data"
    },
    {
     "name": "stdout",
     "output_type": "stream",
     "text": [
      "經過週期數: 1 \n",
      "time= 4.5659999999998595 (sec)\n",
      "Δt= 4.5659999999998595\n",
      "經過週期數: 2 \n",
      "time= 9.132000000000378 (sec)\n",
      "Δt= 4.5660000000005185\n",
      "經過週期數: 3 \n",
      "time= 13.697999999997847 (sec)\n",
      "Δt= 4.565999999997469\n",
      "經過週期數: 4 \n",
      "time= 18.26399999999934 (sec)\n",
      "Δt= 4.566000000001491\n",
      "經過週期數: 5 \n",
      "time= 22.83000000000492 (sec)\n",
      "Δt= 4.56600000000558\n",
      "經過週期數: 6 \n",
      "time= 27.3960000000105 (sec)\n",
      "Δt= 4.56600000000558\n",
      "經過週期數: 7 \n",
      "time= 31.96200000001608 (sec)\n",
      "Δt= 4.56600000000558\n",
      "經過週期數: 8 \n",
      "time= 36.52800000000557 (sec)\n",
      "Δt= 4.56599999998949\n",
      "經過週期數: 9 \n",
      "time= 41.094999999994926 (sec)\n",
      "Δt= 4.566999999989356\n",
      "經過週期數: 10 \n",
      "time= 45.660999999984284 (sec)\n",
      "Δt= 4.565999999989359\n"
     ]
    }
   ],
   "source": [
    "scene = canvas(title = \"排灣族鞦韆\", width = 400, height = 600, x = 0, y = 0, background = color.gray(0.6))\n",
    "roof = box(pos = vector(0, L/2 + 0.05, 0), length = L, height = 0.1, width = L/2, color = vector(0.5,0.3,0.2))\n",
    "ball = sphere(pos = vector(L*sin(theta0), L/2 - L*cos(theta0), 0), radius = r, color = color.red, retain = 100)\n",
    "ball.v = vector(0, 0, 0)\n",
    "rope = cylinder(pos = vector(0, L/2, 0), axis = ball.pos - vector(0, L/2, 0), radius = 0.1*r, color = color.white)\n",
    "\n",
    "arr = arrow(pos = ball.pos, axis = vector(0, 0, 0), shaftwidth = 0.3*r, color = color.green)\n",
    "arr_x = arrow(pos = ball.pos, axis = vector(0, 0, 0), shaftwidth = 0.3*r, color = color.blue)\n",
    "arr_y = arrow(pos = ball.pos, axis = vector(0, 0, 0), shaftwidth = 0.3*r, color = color.orange)\n",
    "\n",
    "gd = graph(title = \"plot\", width = 600, height = 450, x = 0, y = 600, xtitle = \"t(s)\", ytitle = \"Blue: θ(rad), Green: ω(rad/s), Red: α(rad/s^2)\")\n",
    "theta_t = gcurve(graph = gd, color = color.blue)\n",
    "omega_t = gcurve(graph = gd, color = color.green)\n",
    "alpha_t = gcurve(graph = gd, color = color.red)\n",
    "\n",
    "omega_p = omega\n",
    "i=0\n",
    "tmp=0 #紀錄上一個時間\n",
    "while(i < 10):\n",
    "    rate(1000)\n",
    "\n",
    "    r = ball.pos - vector(0, L/2, 0)\n",
    "    if(mag(ball.v)==0):\n",
    "        F = vector(0, -m_bride*g, 0)\n",
    "    else:\n",
    "        #甚麼都沒有~~\n",
    "        F = vector(0, -m_bride*g, 0)\n",
    "        #空氣阻力\n",
    "        #F = vector(0, -m_bride*g, 0)-b*ball.v*mag(ball.v)\n",
    "        #新郎拉\n",
    "        #F = vector(0, -m_bride*g, 0)+10*ball.v/mag(ball.v)\n",
    "        #新郎拉 和 空氣阻力\n",
    "        #F = vector(0, -m_bride*g, 0)+10*ball.v/mag(ball.v)-b*ball.v*mag(ball.v)\n",
    "    torque = cross(r, F)\n",
    "    alpha = torque.z/(m_bride*L*L)\n",
    "    #alpha = -m_bride*g*ball.pos.x/(m_bride*L*L)\n",
    "    omega += alpha*dt\n",
    "    theta += omega*dt\n",
    "\n",
    "    ball.pos = vector(L*sin(theta), L/2 - L*cos(theta), 0)\n",
    "    v = L*omega\n",
    "    vx = v*cos(theta)\n",
    "    vy = v*sin(theta)\n",
    "    rope.axis = r\n",
    "\n",
    "    arr.pos = ball.pos #x-y合力箭頭位置\n",
    "    arr_x.pos = ball.pos #x方向受力箭頭位置\n",
    "    arr_y.pos = ball.pos #y方向受力箭頭位置\n",
    "    arr.axis = vector(vx, vy, 0) #指向與長度\n",
    "    arr_x.axis = vector(vx, 0, 0) #指向與長度\n",
    "    arr_y.axis = vector(0, vy, 0) #指向與長度\n",
    "    ball.v = vector(vx, vy, 0)#更新ball(新娘速度向量)\n",
    "    \n",
    "    theta_t.plot(pos = (t, theta))\n",
    "    omega_t.plot(pos = (t, omega))\n",
    "    alpha_t.plot(pos = (t, alpha))\n",
    "    \n",
    "    omega_c = omega\n",
    "    if(omega_p > 0 and omega_c < 0):\n",
    "        i += 1\n",
    "        print(\"經過週期數:\",i, \"\\ntime=\",t,\"(sec)\")\n",
    "        print(\"Δt=\",t-tmp)\n",
    "        tmp=t\n",
    "    omega_p = omega_c\n",
    "\n",
    "    t += dt\n"
   ]
  },
  {
   "cell_type": "code",
   "execution_count": null,
   "metadata": {},
   "outputs": [],
   "source": []
  },
  {
   "cell_type": "code",
   "execution_count": 3,
   "metadata": {},
   "outputs": [
    {
     "name": "stdout",
     "output_type": "stream",
     "text": [
      "4.487989505128276\n"
     ]
    }
   ],
   "source": [
    "print(T)"
   ]
  },
  {
   "cell_type": "code",
   "execution_count": null,
   "metadata": {},
   "outputs": [],
   "source": []
  }
 ],
 "metadata": {
  "kernelspec": {
   "display_name": "VPython",
   "language": "python",
   "name": "vpython"
  },
  "language_info": {
   "codemirror_mode": {
    "name": "ipython",
    "version": 3
   },
   "file_extension": ".py",
   "mimetype": "text/x-python",
   "name": "python",
   "nbconvert_exporter": "python",
   "pygments_lexer": "ipython3",
   "version": "3.6.3"
  }
 },
 "nbformat": 4,
 "nbformat_minor": 2
}
